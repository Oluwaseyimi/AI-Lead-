{
 "cells": [
  {
   "cell_type": "markdown",
   "id": "e5d31d2f",
   "metadata": {},
   "source": [
    "Import required libraries"
   ]
  },
  {
   "cell_type": "code",
   "execution_count": 1,
   "id": "4ed50feb",
   "metadata": {},
   "outputs": [],
   "source": [
    "import pandas as pd\n",
    "import numpy as np\n",
    "import matplotlib.pyplot as plt\n",
    "import seaborn as sns"
   ]
  },
  {
   "cell_type": "code",
   "execution_count": 2,
   "id": "2177dab3",
   "metadata": {},
   "outputs": [],
   "source": [
    "data_path = \"used_cars_data-1.csv\"   # remember to change data path\n",
    "\n",
    "# read the dataset\n",
    "dataset= pd.read_csv(data_path)"
   ]
  },
  {
   "cell_type": "code",
   "execution_count": 3,
   "id": "00df2e99",
   "metadata": {},
   "outputs": [
    {
     "data": {
      "text/html": [
       "<div>\n",
       "<style scoped>\n",
       "    .dataframe tbody tr th:only-of-type {\n",
       "        vertical-align: middle;\n",
       "    }\n",
       "\n",
       "    .dataframe tbody tr th {\n",
       "        vertical-align: top;\n",
       "    }\n",
       "\n",
       "    .dataframe thead th {\n",
       "        text-align: right;\n",
       "    }\n",
       "</style>\n",
       "<table border=\"1\" class=\"dataframe\">\n",
       "  <thead>\n",
       "    <tr style=\"text-align: right;\">\n",
       "      <th></th>\n",
       "      <th>S.No.</th>\n",
       "      <th>Name</th>\n",
       "      <th>Location</th>\n",
       "      <th>Year</th>\n",
       "      <th>Kilometers_Driven</th>\n",
       "      <th>Fuel_Type</th>\n",
       "      <th>Transmission</th>\n",
       "      <th>Owner_Type</th>\n",
       "      <th>Mileage</th>\n",
       "      <th>Engine</th>\n",
       "      <th>Power</th>\n",
       "      <th>Seats</th>\n",
       "      <th>New_Price</th>\n",
       "      <th>Price</th>\n",
       "    </tr>\n",
       "  </thead>\n",
       "  <tbody>\n",
       "    <tr>\n",
       "      <th>3782</th>\n",
       "      <td>3782</td>\n",
       "      <td>Mahindra Thar DI 4X4</td>\n",
       "      <td>Kochi</td>\n",
       "      <td>2019</td>\n",
       "      <td>13024</td>\n",
       "      <td>Diesel</td>\n",
       "      <td>Manual</td>\n",
       "      <td>First</td>\n",
       "      <td>18.06 kmpl</td>\n",
       "      <td>2523 CC</td>\n",
       "      <td>63 bhp</td>\n",
       "      <td>7.0</td>\n",
       "      <td>11.390</td>\n",
       "      <td>9.11</td>\n",
       "    </tr>\n",
       "    <tr>\n",
       "      <th>123</th>\n",
       "      <td>123</td>\n",
       "      <td>Maruti Wagon R LXI BS IV</td>\n",
       "      <td>Pune</td>\n",
       "      <td>2011</td>\n",
       "      <td>43874</td>\n",
       "      <td>Petrol</td>\n",
       "      <td>Manual</td>\n",
       "      <td>First</td>\n",
       "      <td>18.9 kmpl</td>\n",
       "      <td>998 CC</td>\n",
       "      <td>67.1 bhp</td>\n",
       "      <td>5.0</td>\n",
       "      <td>5.510</td>\n",
       "      <td>2.45</td>\n",
       "    </tr>\n",
       "    <tr>\n",
       "      <th>4806</th>\n",
       "      <td>4806</td>\n",
       "      <td>Maruti Omni 8 Seater BSII</td>\n",
       "      <td>Jaipur</td>\n",
       "      <td>2004</td>\n",
       "      <td>66624</td>\n",
       "      <td>Petrol</td>\n",
       "      <td>Manual</td>\n",
       "      <td>Third</td>\n",
       "      <td>19.7 kmpl</td>\n",
       "      <td>796 CC</td>\n",
       "      <td>35 bhp</td>\n",
       "      <td>8.0</td>\n",
       "      <td>7.880</td>\n",
       "      <td>0.85</td>\n",
       "    </tr>\n",
       "    <tr>\n",
       "      <th>4430</th>\n",
       "      <td>4430</td>\n",
       "      <td>Datsun Redi GO Sport</td>\n",
       "      <td>Bangalore</td>\n",
       "      <td>2017</td>\n",
       "      <td>12000</td>\n",
       "      <td>Petrol</td>\n",
       "      <td>Manual</td>\n",
       "      <td>First</td>\n",
       "      <td>22.7 kmpl</td>\n",
       "      <td>799 CC</td>\n",
       "      <td>53 bhp</td>\n",
       "      <td>5.0</td>\n",
       "      <td>5.635</td>\n",
       "      <td>3.10</td>\n",
       "    </tr>\n",
       "    <tr>\n",
       "      <th>3041</th>\n",
       "      <td>3041</td>\n",
       "      <td>Maruti Ertiga VXI</td>\n",
       "      <td>Delhi</td>\n",
       "      <td>2014</td>\n",
       "      <td>17585</td>\n",
       "      <td>Petrol</td>\n",
       "      <td>Manual</td>\n",
       "      <td>First</td>\n",
       "      <td>16.02 kmpl</td>\n",
       "      <td>1373 CC</td>\n",
       "      <td>93.7 bhp</td>\n",
       "      <td>7.0</td>\n",
       "      <td>11.270</td>\n",
       "      <td>6.35</td>\n",
       "    </tr>\n",
       "    <tr>\n",
       "      <th>3544</th>\n",
       "      <td>3544</td>\n",
       "      <td>Jeep Compass 2.0 Limited Option 4X4</td>\n",
       "      <td>Jaipur</td>\n",
       "      <td>2017</td>\n",
       "      <td>45000</td>\n",
       "      <td>Diesel</td>\n",
       "      <td>Manual</td>\n",
       "      <td>First</td>\n",
       "      <td>16.3 kmpl</td>\n",
       "      <td>1956 CC</td>\n",
       "      <td>170 bhp</td>\n",
       "      <td>5.0</td>\n",
       "      <td>25.540</td>\n",
       "      <td>20.00</td>\n",
       "    </tr>\n",
       "    <tr>\n",
       "      <th>861</th>\n",
       "      <td>861</td>\n",
       "      <td>Hyundai i20 Magna 1.2</td>\n",
       "      <td>Hyderabad</td>\n",
       "      <td>2014</td>\n",
       "      <td>70089</td>\n",
       "      <td>Petrol</td>\n",
       "      <td>Manual</td>\n",
       "      <td>First</td>\n",
       "      <td>18.6 kmpl</td>\n",
       "      <td>1197 CC</td>\n",
       "      <td>81.83 bhp</td>\n",
       "      <td>5.0</td>\n",
       "      <td>10.250</td>\n",
       "      <td>5.35</td>\n",
       "    </tr>\n",
       "    <tr>\n",
       "      <th>3016</th>\n",
       "      <td>3016</td>\n",
       "      <td>Tata Safari DICOR 2.2 LX 4x2</td>\n",
       "      <td>Bangalore</td>\n",
       "      <td>2011</td>\n",
       "      <td>80000</td>\n",
       "      <td>Diesel</td>\n",
       "      <td>Manual</td>\n",
       "      <td>First</td>\n",
       "      <td>13.93 kmpl</td>\n",
       "      <td>2179 CC</td>\n",
       "      <td>138.03 bhp</td>\n",
       "      <td>7.0</td>\n",
       "      <td>16.950</td>\n",
       "      <td>4.50</td>\n",
       "    </tr>\n",
       "    <tr>\n",
       "      <th>196</th>\n",
       "      <td>196</td>\n",
       "      <td>Hyundai i10 Magna</td>\n",
       "      <td>Jaipur</td>\n",
       "      <td>2015</td>\n",
       "      <td>43571</td>\n",
       "      <td>Petrol</td>\n",
       "      <td>Manual</td>\n",
       "      <td>First</td>\n",
       "      <td>20.36 kmpl</td>\n",
       "      <td>1197 CC</td>\n",
       "      <td>78.9 bhp</td>\n",
       "      <td>5.0</td>\n",
       "      <td>10.250</td>\n",
       "      <td>3.55</td>\n",
       "    </tr>\n",
       "    <tr>\n",
       "      <th>569</th>\n",
       "      <td>569</td>\n",
       "      <td>Toyota Corolla Altis 1.8 Sport</td>\n",
       "      <td>Pune</td>\n",
       "      <td>2010</td>\n",
       "      <td>31000</td>\n",
       "      <td>Petrol</td>\n",
       "      <td>Manual</td>\n",
       "      <td>First</td>\n",
       "      <td>12.5 kmpl</td>\n",
       "      <td>1794 CC</td>\n",
       "      <td>132 bhp</td>\n",
       "      <td>5.0</td>\n",
       "      <td>21.085</td>\n",
       "      <td>5.00</td>\n",
       "    </tr>\n",
       "  </tbody>\n",
       "</table>\n",
       "</div>"
      ],
      "text/plain": [
       "      S.No.                                 Name   Location  Year  \\\n",
       "3782   3782                 Mahindra Thar DI 4X4      Kochi  2019   \n",
       "123     123             Maruti Wagon R LXI BS IV       Pune  2011   \n",
       "4806   4806            Maruti Omni 8 Seater BSII     Jaipur  2004   \n",
       "4430   4430                 Datsun Redi GO Sport  Bangalore  2017   \n",
       "3041   3041                    Maruti Ertiga VXI      Delhi  2014   \n",
       "3544   3544  Jeep Compass 2.0 Limited Option 4X4     Jaipur  2017   \n",
       "861     861                Hyundai i20 Magna 1.2  Hyderabad  2014   \n",
       "3016   3016         Tata Safari DICOR 2.2 LX 4x2  Bangalore  2011   \n",
       "196     196                    Hyundai i10 Magna     Jaipur  2015   \n",
       "569     569       Toyota Corolla Altis 1.8 Sport       Pune  2010   \n",
       "\n",
       "      Kilometers_Driven Fuel_Type Transmission Owner_Type     Mileage  \\\n",
       "3782              13024    Diesel       Manual      First  18.06 kmpl   \n",
       "123               43874    Petrol       Manual      First   18.9 kmpl   \n",
       "4806              66624    Petrol       Manual      Third   19.7 kmpl   \n",
       "4430              12000    Petrol       Manual      First   22.7 kmpl   \n",
       "3041              17585    Petrol       Manual      First  16.02 kmpl   \n",
       "3544              45000    Diesel       Manual      First   16.3 kmpl   \n",
       "861               70089    Petrol       Manual      First   18.6 kmpl   \n",
       "3016              80000    Diesel       Manual      First  13.93 kmpl   \n",
       "196               43571    Petrol       Manual      First  20.36 kmpl   \n",
       "569               31000    Petrol       Manual      First   12.5 kmpl   \n",
       "\n",
       "       Engine       Power  Seats  New_Price  Price  \n",
       "3782  2523 CC      63 bhp    7.0     11.390   9.11  \n",
       "123    998 CC    67.1 bhp    5.0      5.510   2.45  \n",
       "4806   796 CC      35 bhp    8.0      7.880   0.85  \n",
       "4430   799 CC      53 bhp    5.0      5.635   3.10  \n",
       "3041  1373 CC    93.7 bhp    7.0     11.270   6.35  \n",
       "3544  1956 CC     170 bhp    5.0     25.540  20.00  \n",
       "861   1197 CC   81.83 bhp    5.0     10.250   5.35  \n",
       "3016  2179 CC  138.03 bhp    7.0     16.950   4.50  \n",
       "196   1197 CC    78.9 bhp    5.0     10.250   3.55  \n",
       "569   1794 CC     132 bhp    5.0     21.085   5.00  "
      ]
     },
     "execution_count": 3,
     "metadata": {},
     "output_type": "execute_result"
    }
   ],
   "source": [
    "# check the first few rows of the data\n",
    "dataset.sample(10)\n"
   ]
  },
  {
   "cell_type": "code",
   "execution_count": 4,
   "id": "a96d41f3",
   "metadata": {},
   "outputs": [
    {
     "name": "stdout",
     "output_type": "stream",
     "text": [
      "<class 'pandas.core.frame.DataFrame'>\n",
      "RangeIndex: 7253 entries, 0 to 7252\n",
      "Data columns (total 14 columns):\n",
      " #   Column             Non-Null Count  Dtype  \n",
      "---  ------             --------------  -----  \n",
      " 0   S.No.              7253 non-null   int64  \n",
      " 1   Name               7253 non-null   object \n",
      " 2   Location           7253 non-null   object \n",
      " 3   Year               7253 non-null   int64  \n",
      " 4   Kilometers_Driven  7253 non-null   int64  \n",
      " 5   Fuel_Type          7253 non-null   object \n",
      " 6   Transmission       7253 non-null   object \n",
      " 7   Owner_Type         7253 non-null   object \n",
      " 8   Mileage            7251 non-null   object \n",
      " 9   Engine             7207 non-null   object \n",
      " 10  Power              7078 non-null   object \n",
      " 11  Seats              7200 non-null   float64\n",
      " 12  New_Price          7253 non-null   float64\n",
      " 13  Price              6019 non-null   float64\n",
      "dtypes: float64(3), int64(3), object(8)\n",
      "memory usage: 793.4+ KB\n"
     ]
    }
   ],
   "source": [
    "# Check the data types\n",
    "dataset.info()\n"
   ]
  },
  {
   "cell_type": "code",
   "execution_count": 5,
   "id": "159efbd0",
   "metadata": {},
   "outputs": [
    {
     "data": {
      "text/plain": [
       "S.No.                   0\n",
       "Name                    0\n",
       "Location                0\n",
       "Year                    0\n",
       "Kilometers_Driven       0\n",
       "Fuel_Type               0\n",
       "Transmission            0\n",
       "Owner_Type              0\n",
       "Mileage                 2\n",
       "Engine                 46\n",
       "Power                 175\n",
       "Seats                  53\n",
       "New_Price               0\n",
       "Price                1234\n",
       "dtype: int64"
      ]
     },
     "execution_count": 5,
     "metadata": {},
     "output_type": "execute_result"
    }
   ],
   "source": [
    "# check for missing values\n",
    "dataset.isnull().sum()"
   ]
  },
  {
   "cell_type": "markdown",
   "id": "e5d06b8a",
   "metadata": {},
   "source": [
    "**Mileage**"
   ]
  },
  {
   "cell_type": "code",
   "execution_count": 6,
   "id": "4653b2b4",
   "metadata": {},
   "outputs": [
    {
     "data": {
      "text/html": [
       "<div>\n",
       "<style scoped>\n",
       "    .dataframe tbody tr th:only-of-type {\n",
       "        vertical-align: middle;\n",
       "    }\n",
       "\n",
       "    .dataframe tbody tr th {\n",
       "        vertical-align: top;\n",
       "    }\n",
       "\n",
       "    .dataframe thead th {\n",
       "        text-align: right;\n",
       "    }\n",
       "</style>\n",
       "<table border=\"1\" class=\"dataframe\">\n",
       "  <thead>\n",
       "    <tr style=\"text-align: right;\">\n",
       "      <th></th>\n",
       "      <th>S.No.</th>\n",
       "      <th>Year</th>\n",
       "      <th>Kilometers_Driven</th>\n",
       "      <th>Seats</th>\n",
       "      <th>New_Price</th>\n",
       "      <th>Price</th>\n",
       "    </tr>\n",
       "  </thead>\n",
       "  <tbody>\n",
       "    <tr>\n",
       "      <th>count</th>\n",
       "      <td>7253.000000</td>\n",
       "      <td>7253.000000</td>\n",
       "      <td>7.253000e+03</td>\n",
       "      <td>7200.000000</td>\n",
       "      <td>7253.000000</td>\n",
       "      <td>6019.000000</td>\n",
       "    </tr>\n",
       "    <tr>\n",
       "      <th>mean</th>\n",
       "      <td>3626.000000</td>\n",
       "      <td>2013.365366</td>\n",
       "      <td>5.869906e+04</td>\n",
       "      <td>5.279722</td>\n",
       "      <td>21.307322</td>\n",
       "      <td>9.479468</td>\n",
       "    </tr>\n",
       "    <tr>\n",
       "      <th>std</th>\n",
       "      <td>2093.905084</td>\n",
       "      <td>3.254421</td>\n",
       "      <td>8.442772e+04</td>\n",
       "      <td>0.811660</td>\n",
       "      <td>24.256314</td>\n",
       "      <td>11.187917</td>\n",
       "    </tr>\n",
       "    <tr>\n",
       "      <th>min</th>\n",
       "      <td>0.000000</td>\n",
       "      <td>1996.000000</td>\n",
       "      <td>1.710000e+02</td>\n",
       "      <td>0.000000</td>\n",
       "      <td>3.910000</td>\n",
       "      <td>0.440000</td>\n",
       "    </tr>\n",
       "    <tr>\n",
       "      <th>25%</th>\n",
       "      <td>1813.000000</td>\n",
       "      <td>2011.000000</td>\n",
       "      <td>3.400000e+04</td>\n",
       "      <td>5.000000</td>\n",
       "      <td>7.880000</td>\n",
       "      <td>3.500000</td>\n",
       "    </tr>\n",
       "    <tr>\n",
       "      <th>50%</th>\n",
       "      <td>3626.000000</td>\n",
       "      <td>2014.000000</td>\n",
       "      <td>5.341600e+04</td>\n",
       "      <td>5.000000</td>\n",
       "      <td>11.300000</td>\n",
       "      <td>5.640000</td>\n",
       "    </tr>\n",
       "    <tr>\n",
       "      <th>75%</th>\n",
       "      <td>5439.000000</td>\n",
       "      <td>2016.000000</td>\n",
       "      <td>7.300000e+04</td>\n",
       "      <td>5.000000</td>\n",
       "      <td>21.690000</td>\n",
       "      <td>9.950000</td>\n",
       "    </tr>\n",
       "    <tr>\n",
       "      <th>max</th>\n",
       "      <td>7252.000000</td>\n",
       "      <td>2019.000000</td>\n",
       "      <td>6.500000e+06</td>\n",
       "      <td>10.000000</td>\n",
       "      <td>375.000000</td>\n",
       "      <td>160.000000</td>\n",
       "    </tr>\n",
       "  </tbody>\n",
       "</table>\n",
       "</div>"
      ],
      "text/plain": [
       "             S.No.         Year  Kilometers_Driven        Seats    New_Price  \\\n",
       "count  7253.000000  7253.000000       7.253000e+03  7200.000000  7253.000000   \n",
       "mean   3626.000000  2013.365366       5.869906e+04     5.279722    21.307322   \n",
       "std    2093.905084     3.254421       8.442772e+04     0.811660    24.256314   \n",
       "min       0.000000  1996.000000       1.710000e+02     0.000000     3.910000   \n",
       "25%    1813.000000  2011.000000       3.400000e+04     5.000000     7.880000   \n",
       "50%    3626.000000  2014.000000       5.341600e+04     5.000000    11.300000   \n",
       "75%    5439.000000  2016.000000       7.300000e+04     5.000000    21.690000   \n",
       "max    7252.000000  2019.000000       6.500000e+06    10.000000   375.000000   \n",
       "\n",
       "             Price  \n",
       "count  6019.000000  \n",
       "mean      9.479468  \n",
       "std      11.187917  \n",
       "min       0.440000  \n",
       "25%       3.500000  \n",
       "50%       5.640000  \n",
       "75%       9.950000  \n",
       "max     160.000000  "
      ]
     },
     "execution_count": 6,
     "metadata": {},
     "output_type": "execute_result"
    }
   ],
   "source": [
    "# display some descriptive statistics of the data\n",
    "\n",
    "dataset.describe()"
   ]
  },
  {
   "cell_type": "code",
   "execution_count": 7,
   "id": "2a946d8d",
   "metadata": {},
   "outputs": [
    {
     "data": {
      "text/html": [
       "<div>\n",
       "<style scoped>\n",
       "    .dataframe tbody tr th:only-of-type {\n",
       "        vertical-align: middle;\n",
       "    }\n",
       "\n",
       "    .dataframe tbody tr th {\n",
       "        vertical-align: top;\n",
       "    }\n",
       "\n",
       "    .dataframe thead th {\n",
       "        text-align: right;\n",
       "    }\n",
       "</style>\n",
       "<table border=\"1\" class=\"dataframe\">\n",
       "  <thead>\n",
       "    <tr style=\"text-align: right;\">\n",
       "      <th></th>\n",
       "      <th>Name</th>\n",
       "      <th>Location</th>\n",
       "      <th>Fuel_Type</th>\n",
       "      <th>Transmission</th>\n",
       "      <th>Owner_Type</th>\n",
       "      <th>Mileage</th>\n",
       "      <th>Engine</th>\n",
       "      <th>Power</th>\n",
       "    </tr>\n",
       "  </thead>\n",
       "  <tbody>\n",
       "    <tr>\n",
       "      <th>count</th>\n",
       "      <td>7253</td>\n",
       "      <td>7253</td>\n",
       "      <td>7253</td>\n",
       "      <td>7253</td>\n",
       "      <td>7253</td>\n",
       "      <td>7251</td>\n",
       "      <td>7207</td>\n",
       "      <td>7078</td>\n",
       "    </tr>\n",
       "    <tr>\n",
       "      <th>unique</th>\n",
       "      <td>2041</td>\n",
       "      <td>11</td>\n",
       "      <td>5</td>\n",
       "      <td>2</td>\n",
       "      <td>4</td>\n",
       "      <td>450</td>\n",
       "      <td>150</td>\n",
       "      <td>385</td>\n",
       "    </tr>\n",
       "    <tr>\n",
       "      <th>top</th>\n",
       "      <td>Mahindra XUV500 W8 2WD</td>\n",
       "      <td>Mumbai</td>\n",
       "      <td>Diesel</td>\n",
       "      <td>Manual</td>\n",
       "      <td>First</td>\n",
       "      <td>17.0 kmpl</td>\n",
       "      <td>1197 CC</td>\n",
       "      <td>74 bhp</td>\n",
       "    </tr>\n",
       "    <tr>\n",
       "      <th>freq</th>\n",
       "      <td>55</td>\n",
       "      <td>949</td>\n",
       "      <td>3852</td>\n",
       "      <td>5204</td>\n",
       "      <td>5952</td>\n",
       "      <td>207</td>\n",
       "      <td>732</td>\n",
       "      <td>280</td>\n",
       "    </tr>\n",
       "  </tbody>\n",
       "</table>\n",
       "</div>"
      ],
      "text/plain": [
       "                          Name Location Fuel_Type Transmission Owner_Type  \\\n",
       "count                     7253     7253      7253         7253       7253   \n",
       "unique                    2041       11         5            2          4   \n",
       "top     Mahindra XUV500 W8 2WD   Mumbai    Diesel       Manual      First   \n",
       "freq                        55      949      3852         5204       5952   \n",
       "\n",
       "          Mileage   Engine   Power  \n",
       "count        7251     7207    7078  \n",
       "unique        450      150     385  \n",
       "top     17.0 kmpl  1197 CC  74 bhp  \n",
       "freq          207      732     280  "
      ]
     },
     "execution_count": 7,
     "metadata": {},
     "output_type": "execute_result"
    }
   ],
   "source": [
    "# select only the features that are object data types and observe\n",
    "cat_dataset = dataset.select_dtypes(include = \"object\")\n",
    "\n",
    "cat_dataset.describe()"
   ]
  },
  {
   "cell_type": "code",
   "execution_count": 8,
   "id": "44170768",
   "metadata": {},
   "outputs": [
    {
     "name": "stdout",
     "output_type": "stream",
     "text": [
      "Mahindra XUV500 W8 2WD                  55\n",
      "Maruti Swift VDI                        49\n",
      "Maruti Swift Dzire VDI                  42\n",
      "Honda City 1.5 S MT                     39\n",
      "Maruti Swift VDI BSIV                   37\n",
      "                                        ..\n",
      "Chevrolet Beat LT Option                 1\n",
      "Skoda Rapid 1.6 MPI AT Elegance Plus     1\n",
      "Ford EcoSport 1.5 TDCi Ambiente          1\n",
      "Hyundai i10 Magna 1.1 iTech SE           1\n",
      "Hyundai Elite i20 Magna Plus             1\n",
      "Name: Name, Length: 2041, dtype: int64\n",
      "--------------------------------------------------\n",
      "Mumbai        949\n",
      "Hyderabad     876\n",
      "Coimbatore    772\n",
      "Kochi         772\n",
      "Pune          765\n",
      "Delhi         660\n",
      "Kolkata       654\n",
      "Chennai       591\n",
      "Jaipur        499\n",
      "Bangalore     440\n",
      "Ahmedabad     275\n",
      "Name: Location, dtype: int64\n",
      "--------------------------------------------------\n",
      "Diesel      3852\n",
      "Petrol      3325\n",
      "CNG           62\n",
      "LPG           12\n",
      "Electric       2\n",
      "Name: Fuel_Type, dtype: int64\n",
      "--------------------------------------------------\n",
      "Manual       5204\n",
      "Automatic    2049\n",
      "Name: Transmission, dtype: int64\n",
      "--------------------------------------------------\n",
      "First             5952\n",
      "Second            1152\n",
      "Third              137\n",
      "Fourth & Above      12\n",
      "Name: Owner_Type, dtype: int64\n",
      "--------------------------------------------------\n",
      "17.0 kmpl     207\n",
      "18.9 kmpl     201\n",
      "18.6 kmpl     144\n",
      "21.1 kmpl     106\n",
      "20.36 kmpl    105\n",
      "             ... \n",
      "22.8 km/kg      1\n",
      "8.0 kmpl        1\n",
      "7.81 kmpl       1\n",
      "14.47 kmpl      1\n",
      "17.15 kmpl      1\n",
      "Name: Mileage, Length: 450, dtype: int64\n",
      "--------------------------------------------------\n",
      "1197 CC    732\n",
      "1248 CC    610\n",
      "1498 CC    370\n",
      "998 CC     309\n",
      "1198 CC    281\n",
      "          ... \n",
      "1489 CC      1\n",
      "1422 CC      1\n",
      "2706 CC      1\n",
      "1978 CC      1\n",
      "1389 CC      1\n",
      "Name: Engine, Length: 150, dtype: int64\n",
      "--------------------------------------------------\n",
      "74 bhp       280\n",
      "98.6 bhp     166\n",
      "73.9 bhp     152\n",
      "140 bhp      142\n",
      "78.9 bhp     128\n",
      "            ... \n",
      "421 bhp        1\n",
      "89.75 bhp      1\n",
      "387.3 bhp      1\n",
      "226.6 bhp      1\n",
      "241.6 bhp      1\n",
      "Name: Power, Length: 385, dtype: int64\n",
      "--------------------------------------------------\n"
     ]
    }
   ],
   "source": [
    "#Check for the categories and their counts\n",
    "for col in cat_dataset:\n",
    "  print(dataset[col].value_counts())\n",
    "  print(\"-\" * 50)"
   ]
  },
  {
   "cell_type": "markdown",
   "id": "2116d22d",
   "metadata": {},
   "source": [
    "**Data Cleaning**"
   ]
  },
  {
   "cell_type": "code",
   "execution_count": 9,
   "id": "1fc34506",
   "metadata": {},
   "outputs": [],
   "source": [
    "#dataset.drop(\"Mileage\", axis = 1, inplace = True)"
   ]
  },
  {
   "cell_type": "code",
   "execution_count": 10,
   "id": "2a2c4687",
   "metadata": {},
   "outputs": [
    {
     "data": {
      "text/plain": [
       "S.No.                   0\n",
       "Name                    0\n",
       "Location                0\n",
       "Year                    0\n",
       "Kilometers_Driven       0\n",
       "Fuel_Type               0\n",
       "Transmission            0\n",
       "Owner_Type              0\n",
       "Mileage                 2\n",
       "Engine                 46\n",
       "Power                 175\n",
       "Seats                  53\n",
       "New_Price               0\n",
       "Price                1234\n",
       "dtype: int64"
      ]
     },
     "execution_count": 10,
     "metadata": {},
     "output_type": "execute_result"
    }
   ],
   "source": [
    "dataset.isnull().sum()"
   ]
  },
  {
   "cell_type": "markdown",
   "id": "e2e0aff1",
   "metadata": {},
   "source": [
    "**Engine**"
   ]
  },
  {
   "cell_type": "code",
   "execution_count": 11,
   "id": "859ea040",
   "metadata": {},
   "outputs": [
    {
     "data": {
      "text/plain": [
       "46"
      ]
     },
     "execution_count": 11,
     "metadata": {},
     "output_type": "execute_result"
    }
   ],
   "source": [
    "dataset[\"Engine\"].isnull().sum()"
   ]
  },
  {
   "cell_type": "code",
   "execution_count": 12,
   "id": "cd8ef6a8",
   "metadata": {},
   "outputs": [],
   "source": [
    "#replace the nan value with the median \n",
    "# Replacing the \"CC\" unit in the \"Engine\" column with an empty string\n",
    "dataset[\"Engine\"] = dataset[\"Engine\"].str.replace(\"CC\", \"\")\n",
    "\n",
    "# Converting the \"Engine\" column to float\n",
    "dataset[\"Engine\"] = dataset[\"Engine\"].astype(float)\n",
    "\n",
    "# Replacing the NaN values in the \"Engine\" column with the median\n",
    "dataset[\"Engine\"].fillna(dataset[\"Engine\"].median(), inplace=True)"
   ]
  },
  {
   "cell_type": "code",
   "execution_count": 13,
   "id": "7b9037eb",
   "metadata": {},
   "outputs": [
    {
     "data": {
      "text/plain": [
       "0"
      ]
     },
     "execution_count": 13,
     "metadata": {},
     "output_type": "execute_result"
    }
   ],
   "source": [
    "dataset[\"Engine\"].isnull().sum()"
   ]
  },
  {
   "cell_type": "markdown",
   "id": "92f77f48",
   "metadata": {},
   "source": [
    "**Mileage**"
   ]
  },
  {
   "cell_type": "code",
   "execution_count": 14,
   "id": "e0071712",
   "metadata": {},
   "outputs": [],
   "source": [
    "# Replacing the \"km/kg and the kmpl\" unit in the \"Mileage\" column with an empty string\n",
    "dataset[\"Mileage\"] = dataset[\"Mileage\"].str.replace(\"km/kg\", \"\")\n",
    "\n",
    "dataset[\"Mileage\"] = dataset[\"Mileage\"].str.strip(\"kmpl\")"
   ]
  },
  {
   "cell_type": "code",
   "execution_count": 15,
   "id": "0c1f5ab9",
   "metadata": {},
   "outputs": [],
   "source": [
    "# Converting the \"Mileage\" column to float\n",
    "dataset[\"Mileage\"] = dataset[\"Mileage\"].astype(float)\n",
    "\n",
    "# Replacing the NaN values in the \"Mileage\" column with the median\n",
    "dataset[\"Mileage\"].fillna(dataset[\"Mileage\"].median(), inplace=True)"
   ]
  },
  {
   "cell_type": "code",
   "execution_count": 16,
   "id": "53221c1e",
   "metadata": {},
   "outputs": [
    {
     "data": {
      "text/plain": [
       "0"
      ]
     },
     "execution_count": 16,
     "metadata": {},
     "output_type": "execute_result"
    }
   ],
   "source": [
    "dataset[\"Mileage\"].isnull().sum()"
   ]
  },
  {
   "cell_type": "markdown",
   "id": "e6ba57f2",
   "metadata": {},
   "source": [
    "**Power**"
   ]
  },
  {
   "cell_type": "code",
   "execution_count": 17,
   "id": "caae5c6a",
   "metadata": {},
   "outputs": [],
   "source": [
    "# Replacing the NaN values in the \"Power\" column with the median\n",
    "\n",
    "dataset[\"Power\"] = dataset[\"Power\"].str.replace(\" bhp\", \"\").astype(float)\n",
    "\n",
    "# Replacing the NaN values in the \"Power\" column with the median\n",
    "dataset[\"Power\"].fillna(dataset[\"Power\"].median(), inplace=True)"
   ]
  },
  {
   "cell_type": "code",
   "execution_count": 18,
   "id": "7cde6e5a",
   "metadata": {},
   "outputs": [
    {
     "data": {
      "text/plain": [
       "0"
      ]
     },
     "execution_count": 18,
     "metadata": {},
     "output_type": "execute_result"
    }
   ],
   "source": [
    "dataset[\"Power\"].isnull().sum()"
   ]
  },
  {
   "cell_type": "markdown",
   "id": "b6e61e58",
   "metadata": {},
   "source": [
    "**Seats**"
   ]
  },
  {
   "cell_type": "code",
   "execution_count": 19,
   "id": "e9c4b68d",
   "metadata": {},
   "outputs": [
    {
     "data": {
      "text/plain": [
       "array([ 5.,  7.,  8.,  4.,  6.,  2., nan, 10.,  9.,  0.])"
      ]
     },
     "execution_count": 19,
     "metadata": {},
     "output_type": "execute_result"
    }
   ],
   "source": [
    "dataset[\"Seats\"].unique()"
   ]
  },
  {
   "cell_type": "code",
   "execution_count": 20,
   "id": "2140c0bd",
   "metadata": {},
   "outputs": [],
   "source": [
    "\n",
    "# Replace the NaN values in the \"seats\" column with the median\n",
    "dataset[\"Seats\"].fillna(dataset[\"Seats\"].median(), inplace=True)"
   ]
  },
  {
   "cell_type": "code",
   "execution_count": 21,
   "id": "cf7a8aad",
   "metadata": {},
   "outputs": [
    {
     "data": {
      "text/plain": [
       "0"
      ]
     },
     "execution_count": 21,
     "metadata": {},
     "output_type": "execute_result"
    }
   ],
   "source": [
    "dataset[\"Seats\"].isnull().sum()"
   ]
  },
  {
   "cell_type": "markdown",
   "id": "b6728a72",
   "metadata": {},
   "source": [
    "**Price**"
   ]
  },
  {
   "cell_type": "code",
   "execution_count": 22,
   "id": "8370a028",
   "metadata": {},
   "outputs": [
    {
     "data": {
      "text/plain": [
       "array([ 1.75, 12.5 ,  4.5 , ..., 17.56,  7.43,   nan])"
      ]
     },
     "execution_count": 22,
     "metadata": {},
     "output_type": "execute_result"
    }
   ],
   "source": [
    "dataset[\"Price\"].unique()"
   ]
  },
  {
   "cell_type": "code",
   "execution_count": 23,
   "id": "3164a34f",
   "metadata": {},
   "outputs": [],
   "source": [
    "# Replace the NaN values in the \"Price\" column with the median\n",
    "dataset[\"Price\"].fillna(dataset[\"Price\"].median(), inplace=True)"
   ]
  },
  {
   "cell_type": "code",
   "execution_count": 24,
   "id": "4d153211",
   "metadata": {},
   "outputs": [
    {
     "data": {
      "text/plain": [
       "0"
      ]
     },
     "execution_count": 24,
     "metadata": {},
     "output_type": "execute_result"
    }
   ],
   "source": [
    "dataset[\"Price\"].isnull().sum()"
   ]
  },
  {
   "cell_type": "markdown",
   "id": "3b66b4f2",
   "metadata": {},
   "source": [
    "**Price is the column to be predicted this would be dropped**"
   ]
  },
  {
   "cell_type": "code",
   "execution_count": 25,
   "id": "083fe528",
   "metadata": {},
   "outputs": [],
   "source": [
    "num_data = dataset.select_dtypes(include = \"number\")"
   ]
  },
  {
   "cell_type": "code",
   "execution_count": 26,
   "id": "af8b296f",
   "metadata": {},
   "outputs": [
    {
     "data": {
      "text/html": [
       "<div>\n",
       "<style scoped>\n",
       "    .dataframe tbody tr th:only-of-type {\n",
       "        vertical-align: middle;\n",
       "    }\n",
       "\n",
       "    .dataframe tbody tr th {\n",
       "        vertical-align: top;\n",
       "    }\n",
       "\n",
       "    .dataframe thead th {\n",
       "        text-align: right;\n",
       "    }\n",
       "</style>\n",
       "<table border=\"1\" class=\"dataframe\">\n",
       "  <thead>\n",
       "    <tr style=\"text-align: right;\">\n",
       "      <th></th>\n",
       "      <th>S.No.</th>\n",
       "      <th>Year</th>\n",
       "      <th>Kilometers_Driven</th>\n",
       "      <th>Mileage</th>\n",
       "      <th>Engine</th>\n",
       "      <th>Power</th>\n",
       "      <th>Seats</th>\n",
       "      <th>New_Price</th>\n",
       "      <th>Price</th>\n",
       "    </tr>\n",
       "  </thead>\n",
       "  <tbody>\n",
       "    <tr>\n",
       "      <th>0</th>\n",
       "      <td>0</td>\n",
       "      <td>2010</td>\n",
       "      <td>72000</td>\n",
       "      <td>26.60</td>\n",
       "      <td>998.0</td>\n",
       "      <td>58.16</td>\n",
       "      <td>5.0</td>\n",
       "      <td>5.51</td>\n",
       "      <td>1.75</td>\n",
       "    </tr>\n",
       "    <tr>\n",
       "      <th>1</th>\n",
       "      <td>1</td>\n",
       "      <td>2015</td>\n",
       "      <td>41000</td>\n",
       "      <td>19.67</td>\n",
       "      <td>1582.0</td>\n",
       "      <td>126.20</td>\n",
       "      <td>5.0</td>\n",
       "      <td>16.06</td>\n",
       "      <td>12.50</td>\n",
       "    </tr>\n",
       "    <tr>\n",
       "      <th>2</th>\n",
       "      <td>2</td>\n",
       "      <td>2011</td>\n",
       "      <td>46000</td>\n",
       "      <td>18.20</td>\n",
       "      <td>1199.0</td>\n",
       "      <td>88.70</td>\n",
       "      <td>5.0</td>\n",
       "      <td>8.61</td>\n",
       "      <td>4.50</td>\n",
       "    </tr>\n",
       "    <tr>\n",
       "      <th>3</th>\n",
       "      <td>3</td>\n",
       "      <td>2012</td>\n",
       "      <td>87000</td>\n",
       "      <td>20.77</td>\n",
       "      <td>1248.0</td>\n",
       "      <td>88.76</td>\n",
       "      <td>7.0</td>\n",
       "      <td>11.27</td>\n",
       "      <td>6.00</td>\n",
       "    </tr>\n",
       "    <tr>\n",
       "      <th>4</th>\n",
       "      <td>4</td>\n",
       "      <td>2013</td>\n",
       "      <td>40670</td>\n",
       "      <td>15.20</td>\n",
       "      <td>1968.0</td>\n",
       "      <td>140.80</td>\n",
       "      <td>5.0</td>\n",
       "      <td>53.14</td>\n",
       "      <td>17.74</td>\n",
       "    </tr>\n",
       "    <tr>\n",
       "      <th>...</th>\n",
       "      <td>...</td>\n",
       "      <td>...</td>\n",
       "      <td>...</td>\n",
       "      <td>...</td>\n",
       "      <td>...</td>\n",
       "      <td>...</td>\n",
       "      <td>...</td>\n",
       "      <td>...</td>\n",
       "      <td>...</td>\n",
       "    </tr>\n",
       "    <tr>\n",
       "      <th>7248</th>\n",
       "      <td>7248</td>\n",
       "      <td>2011</td>\n",
       "      <td>89411</td>\n",
       "      <td>20.54</td>\n",
       "      <td>1598.0</td>\n",
       "      <td>103.60</td>\n",
       "      <td>5.0</td>\n",
       "      <td>13.23</td>\n",
       "      <td>5.64</td>\n",
       "    </tr>\n",
       "    <tr>\n",
       "      <th>7249</th>\n",
       "      <td>7249</td>\n",
       "      <td>2015</td>\n",
       "      <td>59000</td>\n",
       "      <td>17.21</td>\n",
       "      <td>1197.0</td>\n",
       "      <td>103.60</td>\n",
       "      <td>5.0</td>\n",
       "      <td>10.15</td>\n",
       "      <td>5.64</td>\n",
       "    </tr>\n",
       "    <tr>\n",
       "      <th>7250</th>\n",
       "      <td>7250</td>\n",
       "      <td>2012</td>\n",
       "      <td>28000</td>\n",
       "      <td>23.08</td>\n",
       "      <td>1461.0</td>\n",
       "      <td>63.10</td>\n",
       "      <td>5.0</td>\n",
       "      <td>9.47</td>\n",
       "      <td>5.64</td>\n",
       "    </tr>\n",
       "    <tr>\n",
       "      <th>7251</th>\n",
       "      <td>7251</td>\n",
       "      <td>2013</td>\n",
       "      <td>52262</td>\n",
       "      <td>17.20</td>\n",
       "      <td>1197.0</td>\n",
       "      <td>103.60</td>\n",
       "      <td>5.0</td>\n",
       "      <td>10.15</td>\n",
       "      <td>5.64</td>\n",
       "    </tr>\n",
       "    <tr>\n",
       "      <th>7252</th>\n",
       "      <td>7252</td>\n",
       "      <td>2014</td>\n",
       "      <td>72443</td>\n",
       "      <td>10.00</td>\n",
       "      <td>2148.0</td>\n",
       "      <td>170.00</td>\n",
       "      <td>5.0</td>\n",
       "      <td>86.97</td>\n",
       "      <td>5.64</td>\n",
       "    </tr>\n",
       "  </tbody>\n",
       "</table>\n",
       "<p>7253 rows × 9 columns</p>\n",
       "</div>"
      ],
      "text/plain": [
       "      S.No.  Year  Kilometers_Driven  Mileage  Engine   Power  Seats  \\\n",
       "0         0  2010              72000    26.60   998.0   58.16    5.0   \n",
       "1         1  2015              41000    19.67  1582.0  126.20    5.0   \n",
       "2         2  2011              46000    18.20  1199.0   88.70    5.0   \n",
       "3         3  2012              87000    20.77  1248.0   88.76    7.0   \n",
       "4         4  2013              40670    15.20  1968.0  140.80    5.0   \n",
       "...     ...   ...                ...      ...     ...     ...    ...   \n",
       "7248   7248  2011              89411    20.54  1598.0  103.60    5.0   \n",
       "7249   7249  2015              59000    17.21  1197.0  103.60    5.0   \n",
       "7250   7250  2012              28000    23.08  1461.0   63.10    5.0   \n",
       "7251   7251  2013              52262    17.20  1197.0  103.60    5.0   \n",
       "7252   7252  2014              72443    10.00  2148.0  170.00    5.0   \n",
       "\n",
       "      New_Price  Price  \n",
       "0          5.51   1.75  \n",
       "1         16.06  12.50  \n",
       "2          8.61   4.50  \n",
       "3         11.27   6.00  \n",
       "4         53.14  17.74  \n",
       "...         ...    ...  \n",
       "7248      13.23   5.64  \n",
       "7249      10.15   5.64  \n",
       "7250       9.47   5.64  \n",
       "7251      10.15   5.64  \n",
       "7252      86.97   5.64  \n",
       "\n",
       "[7253 rows x 9 columns]"
      ]
     },
     "execution_count": 26,
     "metadata": {},
     "output_type": "execute_result"
    }
   ],
   "source": [
    "num_data"
   ]
  },
  {
   "cell_type": "markdown",
   "id": "26a9e34b",
   "metadata": {},
   "source": [
    "**Outlier detection**"
   ]
  },
  {
   "cell_type": "code",
   "execution_count": 27,
   "id": "07371798",
   "metadata": {},
   "outputs": [
    {
     "data": {
      "image/png": "[encoded data removed]",
      "text/plain": [
       "<Figure size 2000x3000 with 9 Axes>"
      ]
     },
     "metadata": {},
     "output_type": "display_data"
    }
   ],
   "source": [
    "plt.figure(figsize = (20, 30))\n",
    "\n",
    "for i, variable in enumerate(num_data):\n",
    "  plt.subplot(5, 4, i + 1)\n",
    "  plt.boxplot(dataset[variable])\n",
    "  plt.title(variable)\n",
    "\n",
    "plt.show()"
   ]
  },
  {
   "cell_type": "markdown",
   "id": "428da803",
   "metadata": {},
   "source": [
    "**outlier treatment**"
   ]
  },
  {
   "cell_type": "code",
   "execution_count": 28,
   "id": "1d927eb1",
   "metadata": {},
   "outputs": [
    {
     "data": {
      "text/plain": [
       "Index(['S.No.', 'Year', 'Kilometers_Driven', 'Mileage', 'Engine', 'Power',\n",
       "       'Seats', 'New_Price'],\n",
       "      dtype='object')"
      ]
     },
     "execution_count": 28,
     "metadata": {},
     "output_type": "execute_result"
    }
   ],
   "source": [
    "num_data.drop(\"Price\", axis = 1, inplace = True)\n",
    "\n",
    "num_data.columns"
   ]
  },
  {
   "cell_type": "code",
   "execution_count": 29,
   "id": "864ad403",
   "metadata": {},
   "outputs": [
    {
     "data": {
      "text/plain": [
       "array([0, 5, 0, 5])"
      ]
     },
     "execution_count": 29,
     "metadata": {},
     "output_type": "execute_result"
    }
   ],
   "source": [
    "l1 = [-200, 5, 0, 1000]\n",
    "\n",
    "np.clip(l1, 0, 5)"
   ]
  },
  {
   "cell_type": "code",
   "execution_count": 30,
   "id": "255eaa48",
   "metadata": {},
   "outputs": [],
   "source": [
    "def treat_outliers(df, col):\n",
    "  \"\"\"\n",
    "  treat outliers in variable\n",
    "  col: str, name of the numerical variable\n",
    "  df: dataframe\n",
    "  \"\"\"\n",
    "  Q1 = dataset[col].quantile(0.25)  # 25th quantile\n",
    "  Q3 = dataset[col].quantile(0.75) # upper quantile\n",
    "  IQR = Q3 - Q1\n",
    "  lower_whisker = Q1 - (1.5 * IQR)\n",
    "  upper_whisker = Q3 + (1.5 * IQR)\n",
    "  df[col] = np.clip(dataset[col], lower_whisker, upper_whisker)\n",
    "  return dataset\n",
    "\n",
    "def treat_outliers_all(dataset, col_list):\n",
    "  for c in col_list:\n",
    "    df = treat_outliers(dataset, c)\n",
    "  return dataset"
   ]
  },
  {
   "cell_type": "code",
   "execution_count": 31,
   "id": "591c6e72",
   "metadata": {},
   "outputs": [],
   "source": [
    "dataset = treat_outliers_all(dataset, num_data)"
   ]
  },
  {
   "cell_type": "code",
   "execution_count": 32,
   "id": "e0371917",
   "metadata": {},
   "outputs": [
    {
     "data": {
      "image/png": "[encoded data removed]",
      "text/plain": [
       "<Figure size 2000x3000 with 8 Axes>"
      ]
     },
     "metadata": {},
     "output_type": "display_data"
    }
   ],
   "source": [
    "# outlier detection using boxplot\n",
    "\n",
    "plt.figure(figsize = (20, 30))\n",
    "\n",
    "for i, variable in enumerate(num_data):\n",
    "  plt.subplot(5, 4, i + 1)\n",
    "  plt.boxplot(dataset[variable], whis=1.5)\n",
    "  plt.title(variable)\n",
    "\n",
    "plt.show()"
   ]
  },
  {
   "cell_type": "markdown",
   "id": "4913ea25",
   "metadata": {},
   "source": [
    "**Model Building**"
   ]
  },
  {
   "cell_type": "code",
   "execution_count": 33,
   "id": "9659c99b",
   "metadata": {},
   "outputs": [],
   "source": [
    "# import required libraries\n",
    "from sklearn.model_selection import train_test_split\n",
    "from sklearn.preprocessing import StandardScaler, MinMaxScaler\n",
    "from sklearn.linear_model import LinearRegression"
   ]
  },
  {
   "cell_type": "code",
   "execution_count": 41,
   "id": "2de5f431",
   "metadata": {},
   "outputs": [],
   "source": [
    "# Select features and target using the numerical columns only\n",
    "X = dataset[[\"S.No.\",\"Year\",\"Kilometers_Driven\",\"Mileage\",\"Engine\",\"Power\",\"Seats\",\"New_Price\"]]\n",
    "y = dataset[\"Price\"] \n",
    "#df.columns"
   ]
  },
  {
   "cell_type": "code",
   "execution_count": 64,
   "id": "f5c8c4ab",
   "metadata": {},
   "outputs": [
    {
     "data": {
      "text/plain": [
       "S.No.                0\n",
       "Year                 0\n",
       "Kilometers_Driven    0\n",
       "Mileage              0\n",
       "Engine               0\n",
       "Power                0\n",
       "Seats                0\n",
       "New_Price            0\n",
       "dtype: int64"
      ]
     },
     "execution_count": 64,
     "metadata": {},
     "output_type": "execute_result"
    }
   ],
   "source": [
    "#  check there are missing values\n",
    "X.isnull().sum()"
   ]
  },
  {
   "cell_type": "markdown",
   "id": "f0303506",
   "metadata": {},
   "source": [
    "**Create the train and test dataset**"
   ]
  },
  {
   "cell_type": "code",
   "execution_count": 36,
   "id": "01c43aff",
   "metadata": {},
   "outputs": [],
   "source": [
    "# convert all categorical features to numerical data: OneHotEncoding\n",
    "\n",
    "#X = pd.get_dummies(X, drop_first = True)\n",
    "\n",
    "#X.head()"
   ]
  },
  {
   "cell_type": "code",
   "execution_count": 42,
   "id": "a3a29bb3",
   "metadata": {},
   "outputs": [],
   "source": [
    "X_train, X_test, y_train, y_test = train_test_split(X, y, test_size=0.2, random_state=42)\n",
    "X, y = X_train, y_train\n",
    "\n",
    "X_train, X_val, y_train, y_val = train_test_split(X, y, test_size=0.2, random_state=42)"
   ]
  },
  {
   "cell_type": "code",
   "execution_count": 43,
   "id": "ace07880",
   "metadata": {},
   "outputs": [
    {
     "data": {
      "text/html": [
       "<div>\n",
       "<style scoped>\n",
       "    .dataframe tbody tr th:only-of-type {\n",
       "        vertical-align: middle;\n",
       "    }\n",
       "\n",
       "    .dataframe tbody tr th {\n",
       "        vertical-align: top;\n",
       "    }\n",
       "\n",
       "    .dataframe thead th {\n",
       "        text-align: right;\n",
       "    }\n",
       "</style>\n",
       "<table border=\"1\" class=\"dataframe\">\n",
       "  <thead>\n",
       "    <tr style=\"text-align: right;\">\n",
       "      <th></th>\n",
       "      <th>S.No.</th>\n",
       "      <th>Year</th>\n",
       "      <th>Kilometers_Driven</th>\n",
       "      <th>Mileage</th>\n",
       "      <th>Engine</th>\n",
       "      <th>Power</th>\n",
       "      <th>Seats</th>\n",
       "      <th>New_Price</th>\n",
       "    </tr>\n",
       "  </thead>\n",
       "  <tbody>\n",
       "    <tr>\n",
       "      <th>226</th>\n",
       "      <td>226</td>\n",
       "      <td>2015.0</td>\n",
       "      <td>46173.0</td>\n",
       "      <td>19.01</td>\n",
       "      <td>1461.0</td>\n",
       "      <td>108.50</td>\n",
       "      <td>5.0</td>\n",
       "      <td>16.65</td>\n",
       "    </tr>\n",
       "    <tr>\n",
       "      <th>6309</th>\n",
       "      <td>6309</td>\n",
       "      <td>2015.0</td>\n",
       "      <td>36933.0</td>\n",
       "      <td>21.10</td>\n",
       "      <td>814.0</td>\n",
       "      <td>55.20</td>\n",
       "      <td>5.0</td>\n",
       "      <td>10.25</td>\n",
       "    </tr>\n",
       "    <tr>\n",
       "      <th>5725</th>\n",
       "      <td>5725</td>\n",
       "      <td>2013.0</td>\n",
       "      <td>120000.0</td>\n",
       "      <td>20.00</td>\n",
       "      <td>1968.0</td>\n",
       "      <td>138.10</td>\n",
       "      <td>5.0</td>\n",
       "      <td>25.83</td>\n",
       "    </tr>\n",
       "    <tr>\n",
       "      <th>1076</th>\n",
       "      <td>1076</td>\n",
       "      <td>2016.0</td>\n",
       "      <td>68000.0</td>\n",
       "      <td>10.91</td>\n",
       "      <td>3123.0</td>\n",
       "      <td>197.00</td>\n",
       "      <td>5.0</td>\n",
       "      <td>35.29</td>\n",
       "    </tr>\n",
       "    <tr>\n",
       "      <th>5840</th>\n",
       "      <td>5840</td>\n",
       "      <td>2007.0</td>\n",
       "      <td>131500.0</td>\n",
       "      <td>13.10</td>\n",
       "      <td>2499.0</td>\n",
       "      <td>141.00</td>\n",
       "      <td>5.0</td>\n",
       "      <td>35.29</td>\n",
       "    </tr>\n",
       "    <tr>\n",
       "      <th>...</th>\n",
       "      <td>...</td>\n",
       "      <td>...</td>\n",
       "      <td>...</td>\n",
       "      <td>...</td>\n",
       "      <td>...</td>\n",
       "      <td>...</td>\n",
       "      <td>...</td>\n",
       "      <td>...</td>\n",
       "    </tr>\n",
       "    <tr>\n",
       "      <th>3804</th>\n",
       "      <td>3804</td>\n",
       "      <td>2015.0</td>\n",
       "      <td>45000.0</td>\n",
       "      <td>21.90</td>\n",
       "      <td>1396.0</td>\n",
       "      <td>88.76</td>\n",
       "      <td>5.0</td>\n",
       "      <td>10.25</td>\n",
       "    </tr>\n",
       "    <tr>\n",
       "      <th>4000</th>\n",
       "      <td>4000</td>\n",
       "      <td>2011.0</td>\n",
       "      <td>37000.0</td>\n",
       "      <td>20.00</td>\n",
       "      <td>1399.0</td>\n",
       "      <td>68.05</td>\n",
       "      <td>5.0</td>\n",
       "      <td>7.65</td>\n",
       "    </tr>\n",
       "    <tr>\n",
       "      <th>2479</th>\n",
       "      <td>2479</td>\n",
       "      <td>2013.0</td>\n",
       "      <td>44378.0</td>\n",
       "      <td>25.44</td>\n",
       "      <td>936.0</td>\n",
       "      <td>57.60</td>\n",
       "      <td>5.0</td>\n",
       "      <td>11.30</td>\n",
       "    </tr>\n",
       "    <tr>\n",
       "      <th>2524</th>\n",
       "      <td>2524</td>\n",
       "      <td>2003.5</td>\n",
       "      <td>101000.0</td>\n",
       "      <td>17.30</td>\n",
       "      <td>1061.0</td>\n",
       "      <td>64.00</td>\n",
       "      <td>5.0</td>\n",
       "      <td>5.51</td>\n",
       "    </tr>\n",
       "    <tr>\n",
       "      <th>4695</th>\n",
       "      <td>4695</td>\n",
       "      <td>2014.0</td>\n",
       "      <td>57464.0</td>\n",
       "      <td>23.59</td>\n",
       "      <td>1364.0</td>\n",
       "      <td>67.06</td>\n",
       "      <td>5.0</td>\n",
       "      <td>9.99</td>\n",
       "    </tr>\n",
       "  </tbody>\n",
       "</table>\n",
       "<p>4641 rows × 8 columns</p>\n",
       "</div>"
      ],
      "text/plain": [
       "      S.No.    Year  Kilometers_Driven  Mileage  Engine   Power  Seats  \\\n",
       "226     226  2015.0            46173.0    19.01  1461.0  108.50    5.0   \n",
       "6309   6309  2015.0            36933.0    21.10   814.0   55.20    5.0   \n",
       "5725   5725  2013.0           120000.0    20.00  1968.0  138.10    5.0   \n",
       "1076   1076  2016.0            68000.0    10.91  3123.0  197.00    5.0   \n",
       "5840   5840  2007.0           131500.0    13.10  2499.0  141.00    5.0   \n",
       "...     ...     ...                ...      ...     ...     ...    ...   \n",
       "3804   3804  2015.0            45000.0    21.90  1396.0   88.76    5.0   \n",
       "4000   4000  2011.0            37000.0    20.00  1399.0   68.05    5.0   \n",
       "2479   2479  2013.0            44378.0    25.44   936.0   57.60    5.0   \n",
       "2524   2524  2003.5           101000.0    17.30  1061.0   64.00    5.0   \n",
       "4695   4695  2014.0            57464.0    23.59  1364.0   67.06    5.0   \n",
       "\n",
       "      New_Price  \n",
       "226       16.65  \n",
       "6309      10.25  \n",
       "5725      25.83  \n",
       "1076      35.29  \n",
       "5840      35.29  \n",
       "...         ...  \n",
       "3804      10.25  \n",
       "4000       7.65  \n",
       "2479      11.30  \n",
       "2524       5.51  \n",
       "4695       9.99  \n",
       "\n",
       "[4641 rows x 8 columns]"
      ]
     },
     "execution_count": 43,
     "metadata": {},
     "output_type": "execute_result"
    }
   ],
   "source": [
    "X_train"
   ]
  },
  {
   "cell_type": "markdown",
   "id": "a746e512",
   "metadata": {},
   "source": [
    "**Scaling the dataset**"
   ]
  },
  {
   "cell_type": "code",
   "execution_count": 44,
   "id": "bd0c2c8e",
   "metadata": {},
   "outputs": [],
   "source": [
    "#Create a function for the min max scaler used to rescale the Values, this would be used for all categories\n",
    "def min_max_standerdization(X_train, X_test, X_val):\n",
    "    scaler = MinMaxScaler()\n",
    "    X_train_scaled = scaler.fit_transform(X_train)\n",
    "    X_test_scaled = scaler.transform(X_test)\n",
    "    X_val_scaled = scaler.transform(X_val)\n",
    "    return X_train_scaled, X_test_scaled, X_val_scaled\n",
    "\n",
    "X_train_scaled, X_test_scaled, X_val_scaled = min_max_standerdization(X_train, X_test, X_val)"
   ]
  },
  {
   "cell_type": "code",
   "execution_count": 45,
   "id": "d8a188c9",
   "metadata": {},
   "outputs": [],
   "source": [
    "#the dataset conversion to pandas\n",
    "X_train_scaled = pd.DataFrame(X_train_scaled, columns = X_train.columns)\n",
    "X_test_scaled = pd.DataFrame(X_test_scaled, columns = X_test.columns)\n",
    "X_val_scaled = pd.DataFrame(X_val_scaled, columns = X_val.columns)"
   ]
  },
  {
   "cell_type": "code",
   "execution_count": 46,
   "id": "2479edb5",
   "metadata": {},
   "outputs": [
    {
     "data": {
      "text/html": [
       "<div>\n",
       "<style scoped>\n",
       "    .dataframe tbody tr th:only-of-type {\n",
       "        vertical-align: middle;\n",
       "    }\n",
       "\n",
       "    .dataframe tbody tr th {\n",
       "        vertical-align: top;\n",
       "    }\n",
       "\n",
       "    .dataframe thead th {\n",
       "        text-align: right;\n",
       "    }\n",
       "</style>\n",
       "<table border=\"1\" class=\"dataframe\">\n",
       "  <thead>\n",
       "    <tr style=\"text-align: right;\">\n",
       "      <th></th>\n",
       "      <th>S.No.</th>\n",
       "      <th>Year</th>\n",
       "      <th>Kilometers_Driven</th>\n",
       "      <th>Mileage</th>\n",
       "      <th>Engine</th>\n",
       "      <th>Power</th>\n",
       "      <th>Seats</th>\n",
       "      <th>New_Price</th>\n",
       "    </tr>\n",
       "  </thead>\n",
       "  <tbody>\n",
       "    <tr>\n",
       "      <th>0</th>\n",
       "      <td>0.031030</td>\n",
       "      <td>0.741935</td>\n",
       "      <td>0.348151</td>\n",
       "      <td>0.536889</td>\n",
       "      <td>0.334934</td>\n",
       "      <td>0.380294</td>\n",
       "      <td>0.0</td>\n",
       "      <td>0.330952</td>\n",
       "    </tr>\n",
       "    <tr>\n",
       "      <th>1</th>\n",
       "      <td>0.869949</td>\n",
       "      <td>0.741935</td>\n",
       "      <td>0.277563</td>\n",
       "      <td>0.625000</td>\n",
       "      <td>0.076030</td>\n",
       "      <td>0.107486</td>\n",
       "      <td>0.0</td>\n",
       "      <td>0.164697</td>\n",
       "    </tr>\n",
       "    <tr>\n",
       "      <th>2</th>\n",
       "      <td>0.789408</td>\n",
       "      <td>0.612903</td>\n",
       "      <td>0.912147</td>\n",
       "      <td>0.578626</td>\n",
       "      <td>0.537815</td>\n",
       "      <td>0.531798</td>\n",
       "      <td>0.0</td>\n",
       "      <td>0.569425</td>\n",
       "    </tr>\n",
       "    <tr>\n",
       "      <th>3</th>\n",
       "      <td>0.148255</td>\n",
       "      <td>0.806452</td>\n",
       "      <td>0.514897</td>\n",
       "      <td>0.195405</td>\n",
       "      <td>1.000000</td>\n",
       "      <td>0.833269</td>\n",
       "      <td>0.0</td>\n",
       "      <td>0.815171</td>\n",
       "    </tr>\n",
       "    <tr>\n",
       "      <th>4</th>\n",
       "      <td>0.805268</td>\n",
       "      <td>0.225806</td>\n",
       "      <td>1.000000</td>\n",
       "      <td>0.287732</td>\n",
       "      <td>0.750300</td>\n",
       "      <td>0.546641</td>\n",
       "      <td>0.0</td>\n",
       "      <td>0.815171</td>\n",
       "    </tr>\n",
       "    <tr>\n",
       "      <th>...</th>\n",
       "      <td>...</td>\n",
       "      <td>...</td>\n",
       "      <td>...</td>\n",
       "      <td>...</td>\n",
       "      <td>...</td>\n",
       "      <td>...</td>\n",
       "      <td>...</td>\n",
       "      <td>...</td>\n",
       "    </tr>\n",
       "    <tr>\n",
       "      <th>4636</th>\n",
       "      <td>0.524479</td>\n",
       "      <td>0.741935</td>\n",
       "      <td>0.339190</td>\n",
       "      <td>0.658727</td>\n",
       "      <td>0.308924</td>\n",
       "      <td>0.279258</td>\n",
       "      <td>0.0</td>\n",
       "      <td>0.164697</td>\n",
       "    </tr>\n",
       "    <tr>\n",
       "      <th>4637</th>\n",
       "      <td>0.551510</td>\n",
       "      <td>0.483871</td>\n",
       "      <td>0.278075</td>\n",
       "      <td>0.578626</td>\n",
       "      <td>0.310124</td>\n",
       "      <td>0.173257</td>\n",
       "      <td>0.0</td>\n",
       "      <td>0.097155</td>\n",
       "    </tr>\n",
       "    <tr>\n",
       "      <th>4638</th>\n",
       "      <td>0.341746</td>\n",
       "      <td>0.612903</td>\n",
       "      <td>0.334439</td>\n",
       "      <td>0.807968</td>\n",
       "      <td>0.124850</td>\n",
       "      <td>0.119770</td>\n",
       "      <td>0.0</td>\n",
       "      <td>0.191973</td>\n",
       "    </tr>\n",
       "    <tr>\n",
       "      <th>4639</th>\n",
       "      <td>0.347952</td>\n",
       "      <td>0.000000</td>\n",
       "      <td>0.766998</td>\n",
       "      <td>0.464798</td>\n",
       "      <td>0.174870</td>\n",
       "      <td>0.152527</td>\n",
       "      <td>0.0</td>\n",
       "      <td>0.041564</td>\n",
       "    </tr>\n",
       "    <tr>\n",
       "      <th>4640</th>\n",
       "      <td>0.647359</td>\n",
       "      <td>0.677419</td>\n",
       "      <td>0.434408</td>\n",
       "      <td>0.729975</td>\n",
       "      <td>0.296118</td>\n",
       "      <td>0.168189</td>\n",
       "      <td>0.0</td>\n",
       "      <td>0.157943</td>\n",
       "    </tr>\n",
       "  </tbody>\n",
       "</table>\n",
       "<p>4641 rows × 8 columns</p>\n",
       "</div>"
      ],
      "text/plain": [
       "         S.No.      Year  Kilometers_Driven   Mileage    Engine     Power  \\\n",
       "0     0.031030  0.741935           0.348151  0.536889  0.334934  0.380294   \n",
       "1     0.869949  0.741935           0.277563  0.625000  0.076030  0.107486   \n",
       "2     0.789408  0.612903           0.912147  0.578626  0.537815  0.531798   \n",
       "3     0.148255  0.806452           0.514897  0.195405  1.000000  0.833269   \n",
       "4     0.805268  0.225806           1.000000  0.287732  0.750300  0.546641   \n",
       "...        ...       ...                ...       ...       ...       ...   \n",
       "4636  0.524479  0.741935           0.339190  0.658727  0.308924  0.279258   \n",
       "4637  0.551510  0.483871           0.278075  0.578626  0.310124  0.173257   \n",
       "4638  0.341746  0.612903           0.334439  0.807968  0.124850  0.119770   \n",
       "4639  0.347952  0.000000           0.766998  0.464798  0.174870  0.152527   \n",
       "4640  0.647359  0.677419           0.434408  0.729975  0.296118  0.168189   \n",
       "\n",
       "      Seats  New_Price  \n",
       "0       0.0   0.330952  \n",
       "1       0.0   0.164697  \n",
       "2       0.0   0.569425  \n",
       "3       0.0   0.815171  \n",
       "4       0.0   0.815171  \n",
       "...     ...        ...  \n",
       "4636    0.0   0.164697  \n",
       "4637    0.0   0.097155  \n",
       "4638    0.0   0.191973  \n",
       "4639    0.0   0.041564  \n",
       "4640    0.0   0.157943  \n",
       "\n",
       "[4641 rows x 8 columns]"
      ]
     },
     "execution_count": 46,
     "metadata": {},
     "output_type": "execute_result"
    }
   ],
   "source": [
    "X_train_scaled"
   ]
  },
  {
   "cell_type": "code",
   "execution_count": null,
   "id": "134248ae",
   "metadata": {},
   "outputs": [],
   "source": []
  },
  {
   "cell_type": "markdown",
   "id": "b0d8e249",
   "metadata": {},
   "source": [
    "**plot the boxplot and effect of scaling**"
   ]
  },
  {
   "cell_type": "code",
   "execution_count": 47,
   "id": "f017b30e",
   "metadata": {},
   "outputs": [
    {
     "data": {
      "text/plain": [
       "Text(0.5, 1.0, 'X_train After Using Min Max Scaler')"
      ]
     },
     "execution_count": 47,
     "metadata": {},
     "output_type": "execute_result"
    },
    {
     "data": {
      "image/png": "[encoded data removed]",
      "text/plain": [
       "<Figure size 1500x500 with 2 Axes>"
      ]
     },
     "metadata": {},
     "output_type": "display_data"
    }
   ],
   "source": [
    "plt.subplots(figsize=(15, 5))\n",
    "plt.subplot(1, 2, 1)\n",
    "#Before the Xtrain is scaled\n",
    "sns.boxplot(data=X_train)\n",
    "#After the Xtrain is scaled\n",
    "plt.title('X_train Before Using Min Max Scaler')\n",
    "plt.subplot(1, 2, 2)\n",
    "sns.boxplot(data=X_train_scaled)\n",
    "plt.title('X_train After Using Min Max Scaler')"
   ]
  },
  {
   "cell_type": "markdown",
   "id": "176f7082",
   "metadata": {},
   "source": [
    "Model Seclection For Regression Task\n",
    "\n",
    "Comment: Linear Regression and Multiple Linear Regression would be used for model regression selection.\n",
    "\n",
    "Simple Regression Model\n",
    "\n",
    "NB: Reshaping sklearn accepts data in matrix form as rows and columns.Therefore if it is a single feature it has to be reshaped to have rows and columns. The target would not be reshaped. In order to reshape a series,the numpy array is converted using series.to numpy() and the application of .reshape(-1,1) function, where -1 is used a a place holder for all the rows and 1 represents the column. This would be used for all Reshaping in this Jupyter Notebook"
   ]
  },
  {
   "cell_type": "code",
   "execution_count": 48,
   "id": "767befdd",
   "metadata": {},
   "outputs": [],
   "source": [
    "from sklearn.linear_model import LinearRegression # importing linear model\n",
    "from sklearn.metrics import mean_absolute_error, mean_squared_error, r2_score"
   ]
  },
  {
   "cell_type": "code",
   "execution_count": 49,
   "id": "a514296f",
   "metadata": {},
   "outputs": [],
   "source": [
    "model = LinearRegression()"
   ]
  },
  {
   "cell_type": "code",
   "execution_count": 50,
   "id": "001816b1",
   "metadata": {},
   "outputs": [
    {
     "data": {
      "text/plain": [
       "226      8.92\n",
       "6309     5.64\n",
       "5725     6.95\n",
       "1076    29.50\n",
       "5840     5.50\n",
       "        ...  \n",
       "3804     3.45\n",
       "4000     1.80\n",
       "2479     3.85\n",
       "2524     0.95\n",
       "4695     5.75\n",
       "Name: Price, Length: 4641, dtype: float64"
      ]
     },
     "execution_count": 50,
     "metadata": {},
     "output_type": "execute_result"
    }
   ],
   "source": [
    "y_train"
   ]
  },
  {
   "cell_type": "code",
   "execution_count": 51,
   "id": "c2afd984",
   "metadata": {},
   "outputs": [
    {
     "data": {
      "text/plain": [
       "LinearRegression()"
      ]
     },
     "execution_count": 51,
     "metadata": {},
     "output_type": "execute_result"
    }
   ],
   "source": [
    "model.fit(X_train_scaled,y_train)"
   ]
  },
  {
   "cell_type": "code",
   "execution_count": 52,
   "id": "c7d87b74",
   "metadata": {},
   "outputs": [
    {
     "data": {
      "text/plain": [
       "Index(['S.No.', 'Year', 'Kilometers_Driven', 'Mileage', 'Engine', 'Power',\n",
       "       'Seats', 'New_Price'],\n",
       "      dtype='object')"
      ]
     },
     "execution_count": 52,
     "metadata": {},
     "output_type": "execute_result"
    }
   ],
   "source": [
    "X_train_scaled.columns"
   ]
  },
  {
   "cell_type": "markdown",
   "id": "44c9af41",
   "metadata": {},
   "source": [
    "**Re-shape the Attributes**"
   ]
  },
  {
   "cell_type": "markdown",
   "id": "5b042562",
   "metadata": {},
   "source": [
    "**Mileage**"
   ]
  },
  {
   "cell_type": "markdown",
   "id": "4e0243b3",
   "metadata": {},
   "source": [
    "**Linear Regression**"
   ]
  },
  {
   "cell_type": "code",
   "execution_count": 53,
   "id": "5b523aa3",
   "metadata": {},
   "outputs": [],
   "source": [
    "# Application of the reshaping \n",
    "X_train_scaled_mileges=X_train_scaled['Mileage'].to_numpy().reshape(-1,1)\n",
    "X_val_scaled_mileges= X_val_scaled['Mileage'].to_numpy().reshape(-1,1)\n",
    "X_test_scaled_mileges= X_test_scaled['Mileage'].to_numpy().reshape(-1,1)"
   ]
  },
  {
   "cell_type": "code",
   "execution_count": 54,
   "id": "1d21823f",
   "metadata": {},
   "outputs": [
    {
     "name": "stdout",
     "output_type": "stream",
     "text": [
      "The result of the mean_absolute_error is: 5.95\n",
      "The result of the root mean squared error is : 9.51\n",
      "The result of the coefficient of determination is: 0.0878\n"
     ]
    }
   ],
   "source": [
    "# The model results\n",
    "def model_result(model):\n",
    "    model.fit(X_train_scaled_mileges, y_train)\n",
    "    basem_preds = model.predict(X_test_scaled_mileges)\n",
    "    \n",
    "    mean_abs = mean_absolute_error(y_test, basem_preds)\n",
    "    mean_squared = mean_squared_error(y_test,basem_preds)\n",
    "    r2 = r2_score(y_test, basem_preds)\n",
    "    \n",
    "    print(f\"The result of the mean_absolute_error is: {mean_abs:.2f}\")\n",
    "    print(f\"The result of the root mean squared error is : {np.sqrt(mean_squared):.2f}\")\n",
    "    print(f\"The result of the coefficient of determination is: {r2_score(y_test,basem_preds):.4f}\")\n",
    "\n",
    "model_result(model)"
   ]
  },
  {
   "cell_type": "markdown",
   "id": "8d7cccd5",
   "metadata": {},
   "source": [
    "**Multiple Linear Regression**"
   ]
  },
  {
   "cell_type": "code",
   "execution_count": 55,
   "id": "cca68cdf",
   "metadata": {},
   "outputs": [
    {
     "name": "stdout",
     "output_type": "stream",
     "text": [
      "The result of the mean_absolute_error is: 3.53\n",
      "The result of the root mean squared error is : 6.07\n",
      "The result of the coefficient of determination is: 0.6280\n"
     ]
    }
   ],
   "source": [
    "# The model test report\n",
    "def model_result(model):\n",
    "    model.fit(X_train_scaled, y_train)\n",
    "    basem_preds = model.predict(X_test_scaled)\n",
    "    \n",
    "    mean_abs = mean_absolute_error(y_test,basem_preds)\n",
    "    mean_squared = mean_squared_error(y_test,basem_preds)\n",
    "    \n",
    "    print(f\"The result of the mean_absolute_error is: {mean_abs:.2f}\")\n",
    "    print(f\"The result of the root mean squared error is : {np.sqrt(mean_squared):.2f}\")\n",
    "    print(f\"The result of the coefficient of determination is: {r2_score(y_test,basem_preds):.4f}\")\n",
    "\n",
    "\n",
    "#using all the columns from the dataset both numerical and categorical\n",
    "model_result(model)"
   ]
  },
  {
   "cell_type": "markdown",
   "id": "0de797df",
   "metadata": {},
   "source": [
    "Multiple linear Regression performed better than Simple linear Regression in model selection as multiple linear model had a higher r2 score and a lower mae and rmse."
   ]
  },
  {
   "cell_type": "markdown",
   "id": "00a7a4a6",
   "metadata": {},
   "source": [
    "**Ridge Regression**"
   ]
  },
  {
   "cell_type": "code",
   "execution_count": 56,
   "id": "766d45c2",
   "metadata": {},
   "outputs": [],
   "source": [
    "from sklearn.linear_model import Ridge\n",
    "from sklearn.metrics import mean_absolute_error, r2_score\n",
    "\n",
    "ridge = Ridge()"
   ]
  },
  {
   "cell_type": "code",
   "execution_count": 57,
   "id": "a3e53c8b",
   "metadata": {},
   "outputs": [
    {
     "name": "stdout",
     "output_type": "stream",
     "text": [
      "The result of the mean_absolute_error is: 3.52\n",
      "The result of the root mean squared error is : 6.07\n",
      "The result of the coefficient of determination is: 0.6280\n"
     ]
    }
   ],
   "source": [
    "def model_result(model):\n",
    "    model.fit(X_train_scaled, y_train)\n",
    "    basem_preds = model.predict(X_test_scaled)\n",
    "    \n",
    "    mean_abs = mean_absolute_error(y_test, basem_preds)\n",
    "    mean_squared = mean_squared_error(y_test, basem_preds)\n",
    "    \n",
    "    print(f\"The result of the mean_absolute_error is: {mean_abs:.2f}\")\n",
    "    print(f\"The result of the root mean squared error is : {np.sqrt(mean_squared):.2f}\")\n",
    "    print(f\"The result of the coefficient of determination is: {r2_score(y_test, basem_preds):.4f}\")\n",
    "\n",
    "\n",
    "\n",
    "model_result(ridge)"
   ]
  },
  {
   "cell_type": "markdown",
   "id": "08697af5",
   "metadata": {},
   "source": [
    "**Lasso Regression**"
   ]
  },
  {
   "cell_type": "code",
   "execution_count": 58,
   "id": "ced431c2",
   "metadata": {},
   "outputs": [],
   "source": [
    "from sklearn.linear_model import Lasso\n",
    "from sklearn.metrics import mean_absolute_error, r2_score\n",
    "\n",
    "lasso = Lasso()"
   ]
  },
  {
   "cell_type": "code",
   "execution_count": 59,
   "id": "191b78c3",
   "metadata": {},
   "outputs": [
    {
     "name": "stdout",
     "output_type": "stream",
     "text": [
      "The result of the mean_absolute_error is: 4.29\n",
      "The result of the root mean squared error is : 7.73\n",
      "The result of the coefficient of determination is: 0.3972\n"
     ]
    }
   ],
   "source": [
    "def model_result(model):\n",
    "    model.fit(X_train_scaled, y_train)\n",
    "    basem_preds = model.predict(X_test_scaled)\n",
    "    \n",
    "    mean_abs = mean_absolute_error(y_test, basem_preds)\n",
    "    mean_squared = mean_squared_error(y_test, basem_preds)\n",
    "    \n",
    "    print(f\"The result of the mean_absolute_error is: {mean_abs:.2f}\")\n",
    "    print(f\"The result of the root mean squared error is : {np.sqrt(mean_squared):.2f}\")\n",
    "    print(f\"The result of the coefficient of determination is: {r2_score(y_test, basem_preds):.4f}\")\n",
    "\n",
    "\n",
    "\n",
    "model_result(lasso)"
   ]
  },
  {
   "cell_type": "markdown",
   "id": "d30e74ac",
   "metadata": {},
   "source": [
    "**Random Forest Regressor**"
   ]
  },
  {
   "cell_type": "code",
   "execution_count": 60,
   "id": "3ce50092",
   "metadata": {},
   "outputs": [],
   "source": [
    "from sklearn.ensemble import RandomForestRegressor\n",
    "from sklearn.metrics import mean_absolute_error, r2_score\n",
    "\n",
    "rf = RandomForestRegressor()"
   ]
  },
  {
   "cell_type": "code",
   "execution_count": 61,
   "id": "c37e2723",
   "metadata": {},
   "outputs": [
    {
     "name": "stdout",
     "output_type": "stream",
     "text": [
      "The result of the mean_absolute_error is: 1.30\n",
      "The result of the root mean squared error is : 3.12\n",
      "The result of the coefficient of determination is: 0.9019\n"
     ]
    }
   ],
   "source": [
    "def model_result(model):\n",
    "    model.fit(X_train_scaled, y_train)\n",
    "    basem_preds = model.predict(X_test_scaled)\n",
    "    \n",
    "    mean_abs = mean_absolute_error(y_test, basem_preds)\n",
    "    mean_squared = mean_squared_error(y_test, basem_preds)\n",
    "    \n",
    "    print(f\"The result of the mean_absolute_error is: {mean_abs:.2f}\")\n",
    "    print(f\"The result of the root mean squared error is : {np.sqrt(mean_squared):.2f}\")\n",
    "    print(f\"The result of the coefficient of determination is: {r2_score(y_test, basem_preds):.4f}\")\n",
    "\n",
    "\n",
    "#using all the columns from the dataset\n",
    "model_result(rf)"
   ]
  },
  {
   "cell_type": "markdown",
   "id": "663484f4",
   "metadata": {},
   "source": [
    "Random forest had the best performance with an r2 score of 0.9019 and rmse of 3.12 and mae of 1.30 of the three models used. this had the best performance because the lower the rmse and mae the better the performance of the model and also the r2 score was high showing a positive correlation."
   ]
  },
  {
   "cell_type": "markdown",
   "id": "eb4526eb",
   "metadata": {},
   "source": [
    "**FEATURE REMOVAL USING FEATURE IMPORTANCE**"
   ]
  },
  {
   "cell_type": "code",
   "execution_count": 62,
   "id": "a7107488",
   "metadata": {},
   "outputs": [],
   "source": [
    "feature_names = X_train.columns.to_list()"
   ]
  },
  {
   "cell_type": "code",
   "execution_count": 63,
   "id": "9def8fb8",
   "metadata": {},
   "outputs": [
    {
     "data": {
      "image/png": "[encoded data removed]",
      "text/plain": [
       "<Figure size 1200x1200 with 1 Axes>"
      ]
     },
     "metadata": {},
     "output_type": "display_data"
    }
   ],
   "source": [
    "importances = rf.feature_importances_\n",
    "indices = np.argsort(importances)\n",
    "\n",
    "plt.figure(figsize = (12, 12))\n",
    "plt.title(\"Feature Importances\")\n",
    "plt.barh(range(len(indices)), importances[indices], color = \"violet\", \n",
    "         align = \"center\")\n",
    "plt.yticks(range(len(indices)), [feature_names[i] for i in indices])\n",
    "plt.xlabel(\"Relative Importance\")\n",
    "plt.show()"
   ]
  },
  {
   "cell_type": "markdown",
   "id": "db9ddb37",
   "metadata": {},
   "source": [
    "Comment: This shows that the prices of new models of the car determines the prices of the used cars in this case people wpuld want to compare how much they would get a brand new car to how much the used car should be. Based on the feature importance as well, the Year of the car also contributes to be the second highest feature to predict the price so a car made in 2010 would be worth more than a car made in 2008 so the newer the model/ year of release the higher the price. "
   ]
  },
  {
   "cell_type": "code",
   "execution_count": null,
   "id": "6ff56cd0",
   "metadata": {},
   "outputs": [],
   "source": []
  }
 ],
 "metadata": {
  "kernelspec": {
   "display_name": "Python 3 (ipykernel)",
   "language": "python",
   "name": "python3"
  },
  "language_info": {
   "codemirror_mode": {
    "name": "ipython",
    "version": 3
   },
   "file_extension": ".py",
   "mimetype": "text/x-python",
   "name": "python",
   "nbconvert_exporter": "python",
   "pygments_lexer": "ipython3",
   "version": "3.9.13"
  }
 },
 "nbformat": 4,
 "nbformat_minor": 5
}
